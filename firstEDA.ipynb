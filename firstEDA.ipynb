{
 "cells": [
  {
   "cell_type": "markdown",
   "metadata": {},
   "source": [
    "# Explore the dataset\n",
    "\n",
    "\n",
    "In this notebook, we will perform an EDA (Exploratory Data Analysis) on the processed Waymo dataset (data in the `processed` folder). In the first part, you will create a function to display "
   ]
  },
  {
   "cell_type": "code",
   "execution_count": 19,
   "metadata": {},
   "outputs": [],
   "source": [
    "from utils import get_dataset\n",
    "import glob\n",
    "import numpy as np\n",
    "import tensorflow as tf\n",
    "import matplotlib.pyplot as plt\n",
    "import matplotlib.patches as patches\n",
    "\n",
    "%matplotlib inline"
   ]
  },
  {
   "cell_type": "code",
   "execution_count": 20,
   "metadata": {},
   "outputs": [
    {
     "name": "stdout",
     "output_type": "stream",
     "text": [
      "/home/workspace\n",
      "INFO:tensorflow:Reading unweighted datasets: ['/data/waymo/*.tfrecord']\n",
      "INFO:tensorflow:Reading record datasets for input file: ['/data/waymo/*.tfrecord']\n",
      "INFO:tensorflow:Number of filenames to read: 103\n"
     ]
    },
    {
     "data": {
      "text/plain": [
       "<DatasetV1Adapter shapes: {image: (None, None, 3), source_id: (), key: (), filename: (), groundtruth_image_confidences: (None,), groundtruth_verified_neg_classes: (None,), groundtruth_not_exhaustive_classes: (None,), groundtruth_boxes: (None, 4), groundtruth_area: (None,), groundtruth_is_crowd: (None,), groundtruth_difficult: (None,), groundtruth_group_of: (None,), groundtruth_weights: (None,), groundtruth_classes: (None,), groundtruth_image_classes: (None,), original_image_spatial_shape: (2,)}, types: {image: tf.uint8, source_id: tf.string, key: tf.string, filename: tf.string, groundtruth_image_confidences: tf.float32, groundtruth_verified_neg_classes: tf.int64, groundtruth_not_exhaustive_classes: tf.int64, groundtruth_boxes: tf.float32, groundtruth_area: tf.float32, groundtruth_is_crowd: tf.bool, groundtruth_difficult: tf.int64, groundtruth_group_of: tf.bool, groundtruth_weights: tf.float32, groundtruth_classes: tf.int64, groundtruth_image_classes: tf.int64, original_image_spatial_shape: tf.int32}>"
      ]
     },
     "execution_count": 20,
     "metadata": {},
     "output_type": "execute_result"
    }
   ],
   "source": [
    "!pwd\n",
    "\n",
    "\n",
    "dataset = get_dataset(\"/data/waymo/*.tfrecord\")\n",
    "dataset"
   ]
  },
  {
   "cell_type": "markdown",
   "metadata": {},
   "source": [
    "## Write a function to display an image and the bounding boxes\n",
    "\n",
    "Implement the `display_instances` function below. This function takes a batch as an input and display an image with its corresponding bounding boxes. The only requirement is that the classes should be color coded (eg, vehicles in red, pedestrians in blue, cyclist in green)."
   ]
  },
  {
   "cell_type": "code",
   "execution_count": 21,
   "metadata": {},
   "outputs": [],
   "source": [
    "def display_instances(batch):\n",
    "    \"\"\"\n",
    "    gtdic={}\n",
    "    \n",
    "    for gt in batch:\n",
    "        gtdic[gt['filename']]=gt\n",
    "    print(gtdic)\n",
    "    color_map={1:'red',2:'blue',4:'green'}\n",
    "    \n",
    "    fig,ax=plt.subplots()\n",
    "    im=batch[\"image\"].numpy()\n",
    "    ax.imshow(im)\n",
    "    \n",
    "    bboxes=gtdic[filename]['boxes']\n",
    "    print(bboxes)\n",
    "        \n",
    "    \n",
    "    \n",
    "    \n",
    "    This function takes a batch from the dataset and display the image with \n",
    "    the associated bounding boxes.\n",
    "    \"\"\"\n",
    "    \n",
    "    try:\n",
    "        \n",
    "        color_map={1:'red',2:'blue',4:'green'}\n",
    "        \n",
    "        fig,ax=plt.subplots()\n",
    "        im=batch[\"image\"].numpy()\n",
    "        ax.imshow(im)\n",
    "       \n",
    "        print(\"start loop\")\n",
    "        \n",
    "        for coord,label in zip(batch['groundtruth_boxes'].numpy(),batch['groundtruth_classes'].numpy()):\n",
    "           \n",
    "            print(batch['groundtruth_boxes'])\n",
    "            xy=(coord[1]*im.shape[1]),(coord[0]*im.shape[0])\n",
    "            #xy=(coord[1]),(coord[0])\n",
    "            print(xy)\n",
    "            width=(coord[3]-coord[1])*im.shape[1]\n",
    "            height=(coord[2]-coord[0])*im.shape[0]\n",
    "            #width=(coord[2]-coord[0])\n",
    "            #height=(coord[3]-coord[1])\n",
    "            rec=patches.Rectangle(xy,width/2,height/2,linewidth=1,edgecolor=color_map[label],facecolor='none')\n",
    "            print(rec)\n",
    "            \n",
    "            ax.add_patch(rec)\n",
    "            print(\"loop end\")\n",
    "        plt.axis(\"off\")\n",
    "    except Exception as err:\n",
    "        print(err)\n",
    "    \n",
    "    "
   ]
  },
  {
   "cell_type": "markdown",
   "metadata": {},
   "source": [
    "## Display 10 images \n",
    "\n",
    "Using the dataset created in the second cell and the function you just coded, display 10 random images with the associated bounding boxes. You can use the methods `take` and `shuffle` on the dataset."
   ]
  },
  {
   "cell_type": "code",
   "execution_count": null,
   "metadata": {},
   "outputs": [],
   "source": [
    "plt.figure(figsize=(10,10))\n",
    "for i in range(10):\n",
    "    for batch in dataset.shuffle(75,reshuffle_each_iteration=True).take(1):\n",
    "        display_instances(batch)\n",
    "\n",
    "plt.show()"
   ]
  },
  {
   "cell_type": "markdown",
   "metadata": {},
   "source": [
    "## Additional EDA\n",
    "\n",
    "In this last part, you are free to perform any additional analysis of the dataset. What else would like to know about the data?\n",
    "For example, think about data distribution. So far, you have only looked at a single file..."
   ]
  },
  {
   "cell_type": "code",
   "execution_count": null,
   "metadata": {},
   "outputs": [],
   "source": []
  }
 ],
 "metadata": {
  "kernelspec": {
   "display_name": "Python 3",
   "language": "python",
   "name": "python3"
  },
  "language_info": {
   "codemirror_mode": {
    "name": "ipython",
    "version": 3
   },
   "file_extension": ".py",
   "mimetype": "text/x-python",
   "name": "python",
   "nbconvert_exporter": "python",
   "pygments_lexer": "ipython3",
   "version": "3.7.3"
  }
 },
 "nbformat": 4,
 "nbformat_minor": 4
}
